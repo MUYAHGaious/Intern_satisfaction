{
  "cells": [
    {
      "cell_type": "code",
      "execution_count": null,
      "metadata": {
        "id": "F4NZyRAKrqam"
      },
      "outputs": [],
      "source": [
        "import pandas as pd\n",
        "import matplotlib.pyplot as plt\n",
        "import seaborn as sns\n",
        "from wordcloud import WordCloud"
      ]
    },
    {
      "cell_type": "code",
      "execution_count": null,
      "metadata": {
        "id": "b4EToWynrqas"
      },
      "outputs": [],
      "source": [
        "df1 = pd.read_csv('new_File1.csv')\n",
        "df2 = pd.read_csv('new_File2.csv')\n",
        "df1"
      ]
    },
    {
      "cell_type": "code",
      "execution_count": null,
      "metadata": {
        "colab": {
          "base_uri": "https://localhost:8080/",
          "height": 1000
        },
        "id": "JwNn01N_rqay",
        "outputId": "871e942b-17c7-4790-b926-213e1ac742ce"
      },
      "outputs": [],
      "source": [
        "df2"
      ]
    },
    {
      "cell_type": "code",
      "execution_count": null,
      "metadata": {
        "colab": {
          "base_uri": "https://localhost:8080/",
          "height": 693
        },
        "id": "82OE0aDBrqa0",
        "outputId": "d2cc6618-cdf4-4a6c-ab54-3ebbe207b97e"
      },
      "outputs": [],
      "source": [
        "\n",
        "dept_counts = df2[\"department\"].value_counts()\n",
        "\n",
        "\n",
        "plt.figure(figsize=(10,5))\n",
        "sns.barplot(x=dept_counts.index, y=dept_counts.values, palette=\"coolwarm\")\n",
        "plt.xticks(rotation=45)\n",
        "plt.xlabel(\"Skye8 Department\")\n",
        "plt.ylabel(\"Number of Interns\")\n",
        "plt.title(\"Number of Interns per Department\")\n",
        "plt.show()\n"
      ]
    },
    {
      "cell_type": "code",
      "execution_count": null,
      "metadata": {
        "colab": {
          "base_uri": "https://localhost:8080/",
          "height": 633
        },
        "id": "i0N9cqtjrqa2",
        "outputId": "8483711a-79a0-4539-992f-ab8dd1139989"
      },
      "outputs": [],
      "source": [
        "dept_mapping = df2.groupby([df1[\"Gender\"], df1[\"School\"]]).size().unstack(fill_value=0)\n",
        "\n",
        "\n",
        "print(dept_mapping.head())\n",
        "plt.figure(figsize=(12, 6))\n",
        "sns.heatmap(dept_mapping, cmap=\"Blues\", annot=True, fmt=\"d\")\n",
        "plt.title(\"Gender vs Skye8 Department\")\n",
        "plt.show()\n"
      ]
    },
    {
      "cell_type": "code",
      "execution_count": null,
      "metadata": {
        "colab": {
          "base_uri": "https://localhost:8080/"
        },
        "id": "JJh24OtOrqa4",
        "outputId": "b5f8e1fe-91f2-43b0-9930-e56e891f423f"
      },
      "outputs": [],
      "source": [
        "\n",
        "df1[\"Start Date\"] = pd.to_datetime(df1[\"Start Date\"])\n",
        "\n",
        "\n",
        "start_counts = df1.groupby(\"Start Date\").size().reset_index(name=\"Intern_Count\")\n",
        "\n",
        "\n",
        "same_start_dates = start_counts[start_counts[\"Intern_Count\"] >= 1]\n",
        "print(same_start_dates)\n",
        "\n",
        "\n",
        "\n",
        "\n",
        "\n",
        "df1[\"End Date\"] = pd.to_datetime(df1[\"End Date\"])\n",
        "\n",
        "\n",
        "end_counts = df1.groupby(\"End Date\").size().reset_index(name=\"Intern_Count\")\n",
        "\n",
        "\n",
        "same_end_dates = end_counts[end_counts[\"Intern_Count\"] >= 1]\n",
        "print(same_end_dates)\n"
      ]
    },
    {
      "cell_type": "code",
      "execution_count": null,
      "metadata": {
        "colab": {
          "base_uri": "https://localhost:8080/",
          "height": 508
        },
        "id": "mo1qzlngrqa7",
        "outputId": "6aefc2db-efc3-4862-d048-02a790ca56e8"
      },
      "outputs": [],
      "source": [
        "\n",
        "plt.figure(figsize=(15, 5))\n",
        "\n",
        "\n",
        "plt.subplot(1, 2, 1)\n",
        "sns.barplot(\n",
        "    data=same_start_dates,\n",
        "    x='Start Date',\n",
        "    y='Intern_Count',\n",
        "    palette=\"coolwarm\"\n",
        ")\n",
        "plt.xticks(rotation=45)\n",
        "plt.xlabel(\"Start Date\")\n",
        "plt.ylabel(\"Number of Interns\")\n",
        "plt.title(\"Interns with Same Start Date\")\n",
        "\n",
        "\n",
        "plt.subplot(1, 2, 2)\n",
        "sns.barplot(\n",
        "    data=same_end_dates,\n",
        "    x='End Date',\n",
        "    y='Intern_Count',\n",
        "    palette=\"coolwarm\"\n",
        ")\n",
        "plt.xticks(rotation=45)\n",
        "plt.xlabel(\"End Date\")\n",
        "plt.ylabel(\"Number of Interns\")\n",
        "plt.title(\"Interns with Same End Date\")\n",
        "\n",
        "\n",
        "plt.tight_layout()\n",
        "plt.show()\n"
      ]
    },
    {
      "cell_type": "code",
      "execution_count": null,
      "metadata": {
        "colab": {
          "base_uri": "https://localhost:8080/",
          "height": 272
        },
        "id": "QCLiCImKrqa9",
        "outputId": "6a3d8d0e-924a-41c3-ae0b-c4d99267eb3a"
      },
      "outputs": [],
      "source": [
        "grp_dpt = df1['Age'].groupby(df2['department'])\n",
        "dept_mean =grp_dpt.mean()\n",
        "dept_mean\n",
        "\n"
      ]
    },
    {
      "cell_type": "code",
      "execution_count": null,
      "metadata": {
        "colab": {
          "base_uri": "https://localhost:8080/",
          "height": 693
        },
        "id": "QEeZiqNprqa-",
        "outputId": "2d3213e7-e8c8-45e2-c248-50f0ca668635"
      },
      "outputs": [],
      "source": [
        "plt.figure(figsize=(10,5))\n",
        "sns.barplot( x= dept_mean.index, y=dept_mean.values, palette=\"coolwarm\")\n",
        "plt.xticks(rotation=45)\n",
        "plt.xlabel(\"Skye8 Department\")\n",
        "plt.ylabel(\"Number of Interns\")\n",
        "plt.title(\"Number of Interns per Department\")\n",
        "plt.show()"
      ]
    },
    {
      "cell_type": "code",
      "execution_count": null,
      "metadata": {
        "colab": {
          "base_uri": "https://localhost:8080/",
          "height": 272
        },
        "id": "buIpki4Z02ea",
        "outputId": "47675810-757e-4945-9a86-420417710cb7"
      },
      "outputs": [],
      "source": [
        "grp_dpt = df1['Age'].groupby(df2['department'])\n",
        "dept_mean =grp_dpt.mean()\n",
        "dept_mean\n",
        "\n"
      ]
    },
    {
      "cell_type": "code",
      "execution_count": null,
      "metadata": {
        "colab": {
          "base_uri": "https://localhost:8080/",
          "height": 570
        },
        "id": "SCy5JKKa0xjj",
        "outputId": "d22019fe-7bc3-4861-d5b6-997664613edc"
      },
      "outputs": [],
      "source": [
        "\n",
        "plt.figure(figsize=(8, 8))\n",
        "plt.pie(dept_mean.values, labels=dept_mean.index,\n",
        "        autopct=lambda p: '{:.1f}'.format(p * sum(dept_mean.values) / 100),\n",
        "        colors=sns.color_palette(\"coolwarm\", len(dept_mean)))\n",
        "\n",
        "plt.title(\"Mean Age Distribution per Department\")\n",
        "\n",
        "plt.show()"
      ]
    },
    {
      "cell_type": "code",
      "execution_count": null,
      "metadata": {
        "colab": {
          "base_uri": "https://localhost:8080/",
          "height": 241
        },
        "id": "levTIXRe1A66",
        "outputId": "fa559536-acf9-41fb-ade3-a32d9422f4c5"
      },
      "outputs": [],
      "source": [
        "university_duration = df1.groupby('School')['Internship_Duration'].mean().sort_values()\n",
        "university_duration"
      ]
    },
    {
      "cell_type": "code",
      "execution_count": null,
      "metadata": {
        "colab": {
          "base_uri": "https://localhost:8080/",
          "height": 392
        },
        "id": "TDME02eM1qf1",
        "outputId": "dd493b1a-86a5-43ce-fac5-08618abaee80"
      },
      "outputs": [],
      "source": [
        "plt.figure(figsize=(10, 6))\n",
        "plt.hlines(y=university_duration.index, xmin=0, xmax=university_duration.values, color='skyblue', linewidth=2)\n",
        "plt.plot(university_duration.values, university_duration.index, \"o\", markersize=8, color='coral')\n",
        "plt.xlabel(\"Average Internship Duration (Days)\")\n",
        "plt.ylabel(\"University\")\n",
        "plt.title(\"Average Internship Duration by University (Lollipop Chart)\")\n",
        "plt.grid(axis='x', linestyle='--', alpha=0.7)\n",
        "plt.tight_layout()\n",
        "plt.show()"
      ]
    },
    {
      "cell_type": "code",
      "execution_count": null,
      "metadata": {
        "id": "wSlkpXLAveHa"
      },
      "outputs": [],
      "source": [
        "\n",
        "df1[\"Start Date\"] = pd.to_datetime(df1[\"Start Date\"], errors=\"coerce\")\n",
        "df1[\"End Date\"] = pd.to_datetime(df1[\"End Date\"], errors=\"coerce\")"
      ]
    },
    {
      "cell_type": "code",
      "execution_count": null,
      "metadata": {
        "colab": {
          "base_uri": "https://localhost:8080/",
          "height": 1000
        },
        "id": "7LG4SLD1vrYH",
        "outputId": "e63b7d4c-faaf-47a1-879a-bd055a2893e9"
      },
      "outputs": [],
      "source": [
        "\n",
        "df1[\"Internship_Duration\"] = (df1[\"End Date\"] - df1[\"Start Date\"]).dt.days\n",
        "df1"
      ]
    },
    {
      "cell_type": "code",
      "execution_count": null,
      "metadata": {
        "colab": {
          "base_uri": "https://localhost:8080/",
          "height": 519
        },
        "id": "EjNeIDnJwzMp",
        "outputId": "07fb8015-10b4-4d66-db69-4588c936b188"
      },
      "outputs": [],
      "source": [
        "intern_distribution = df1.groupby(df1[\"Start Date\"].dt.to_period(\"M\")).size()\n",
        "plt.figure(figsize=(10, 5))\n",
        "intern_distribution.plot(kind='area', alpha=0.5, color='skyblue')\n",
        "plt.title(\"Intern Distribution Over Time\")\n",
        "plt.xlabel(\"Month\")\n",
        "plt.ylabel(\"Number of Interns\")\n",
        "plt.xticks(rotation=45)\n",
        "plt.grid()\n",
        "plt.show()"
      ]
    },
    {
      "cell_type": "code",
      "execution_count": null,
      "metadata": {
        "colab": {
          "base_uri": "https://localhost:8080/",
          "height": 522
        },
        "id": "yuXq8s64xnni",
        "outputId": "9a364ce1-6d79-4098-95b5-526d8fd221a6"
      },
      "outputs": [],
      "source": [
        "\n",
        "top_universities = df1[\"School\"].value_counts().head(5)\n",
        "bars = top_universities.plot(kind=\"bar\", color=\"skyblue\")\n",
        "\n",
        "for bar in bars.patches:\n",
        "    height = bar.get_height()\n",
        "    plt.text(bar.get_x() + bar.get_width() / 2, height,\n",
        "             int(height), ha='center', va='bottom')\n",
        "plt.title(\"Top 5 Universities Providing Interns\")\n",
        "plt.xlabel(\"University\")\n",
        "plt.ylabel(\"Number of Interns\")\n",
        "plt.show()"
      ]
    },
    {
      "cell_type": "code",
      "execution_count": null,
      "metadata": {
        "id": "_JA05SjHynf6"
      },
      "outputs": [],
      "source": [
        "# Word Cloud for Internship Goals\n",
        "text = \" \".join(str(goal) for goal in df[\"Internship_Goals\"].dropna())\n",
        "wordcloud = WordCloud(width=800, height=400, background_color='white').generate(text)\n",
        "plt.figure(figsize=(10,5))\n",
        "plt.imshow(wordcloud, interpolation='bilinear')\n",
        "plt.axis(\"off\")\n",
        "plt.title(\"Most Common Words in Internship Goals\")\n",
        "plt.show()"
      ]
    }
  ],
  "metadata": {
    "colab": {
      "provenance": [],
      "toc_visible": true
    },
    "kernelspec": {
      "display_name": "base",
      "language": "python",
      "name": "python3"
    },
    "language_info": {
      "codemirror_mode": {
        "name": "ipython",
        "version": 3
      },
      "file_extension": ".py",
      "mimetype": "text/x-python",
      "name": "python",
      "nbconvert_exporter": "python",
      "pygments_lexer": "ipython3",
      "version": "3.12.7"
    }
  },
  "nbformat": 4,
  "nbformat_minor": 0
}
