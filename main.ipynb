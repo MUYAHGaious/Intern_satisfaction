{
 "cells": [
  {
   "cell_type": "code",
   "execution_count": null,
   "metadata": {},
   "outputs": [
    {
     "name": "stderr",
     "output_type": "stream",
     "text": [
      "C:\\Users\\mufor\\AppData\\Local\\Temp\\ipykernel_21580\\1108710136.py:5: SettingWithCopyWarning: \n",
      "A value is trying to be set on a copy of a slice from a DataFrame.\n",
      "Try using .loc[row_indexer,col_indexer] = value instead\n",
      "\n",
      "See the caveats in the documentation: https://pandas.pydata.org/pandas-docs/stable/user_guide/indexing.html#returning-a-view-versus-a-copy\n",
      "  df3['Internship Goals'] = df3['Internship Goals'].str.replace('\\n', '.', regex=True)\n",
      "C:\\Users\\mufor\\AppData\\Local\\Temp\\ipykernel_21580\\1108710136.py:6: SettingWithCopyWarning: \n",
      "A value is trying to be set on a copy of a slice from a DataFrame.\n",
      "Try using .loc[row_indexer,col_indexer] = value instead\n",
      "\n",
      "See the caveats in the documentation: https://pandas.pydata.org/pandas-docs/stable/user_guide/indexing.html#returning-a-view-versus-a-copy\n",
      "  df3['Internship Goals'] = df3['Internship Goals'].str.replace(r'\\d+', '.', regex=True)\n"
     ]
    },
    {
     "data": {
      "text/plain": [
       "'Fulfill academic requirements .Improve skills .Gain more experience .Experience industry trends .Build meaningful projects  .: gain practical experience in network security ..: develop skills in thread analysis and response ..: improve my knowledge of security tools and technologies ..: build professional relationship and network . Gain development skill.networking.gain practical skills.Real world experience.communication skills These are some of my goals for the internship at skye.... To get to know how it is like to be a Network Engineer... To be able to build a physical network... To be able to provide a good security to my network... To experience the kind of work Networkers do . .. Learning the basics on html, css and javascript ... Creating a network with other interns... Helping the team if need be... Building projects that solves real life situations  - To build my software development skills.- To build my confidence as a developer.- To meet new people.- To gain some soft skills.- To grow professionally -get better at coding .-be so good that I can be an asset to Skye ..-gain experience working in a company setting .-get better at working with teams.-learn to work under pressure  User did not input anything To know how to program using python .To do machining learning .Know something about artificial intelligence .To know more about professional base wide world .Achieve skills on data science  Learn how to code in Python.Acquire skills in data analysis.Gain hands-on experience in using AI to improve healthcare systems.Learn how to work in a professional setting Professional growth.Skill development.Networking and relationships.Personal development.Contributing to the org - Gain knowledge in data processing with python..- Gain knowledge in Machine learning and AI.- Gain Knowledge in NLP and Deep learning.- Gain an understanding of working under company standards.- Build a good mastery of team work. To Understand the basic and to build the future -Learn and apply data manipulation techniques .-Implement and experiment with basic machine learning models.-Gain Hands-on Experience with Data Visualization.-Collaborate on Real-World Projects.-Improve Communication and Reporting Skills Improve my skills in frontend development .Professional Development .Hands on experience on real world projects.Academic obligation .Boost my creativity and professional career Improve skill on  frontend developer.work on real life projects.Professional development .Academic obligation.Know how company operates. - Gain field experience.- Develop skills in cyber security.- Improve knowledge of operating system.- contribute to security and networking projects.- been able to design and configure network.- Networking and threat analysis *To bridge the gap between the theory obtained in school and real-world practice..*To gain experience and position myself as a professional in the project management industry..*To network with fellow interns in the industry for future mutual benefit..*To understand how IT projects are being carried out.  Aquire skills, gain knowledge and be productive '"
      ]
     },
     "execution_count": 45,
     "metadata": {},
     "output_type": "execute_result"
    }
   ],
   "source": [
    "import pandas as pd \n",
    "import matplotlib.pyplot as plt\n",
    "df = pd.read_csv('dataset1.csv')\n",
    "df3 =  df[['Full Name','Age', 'Gender','Internship Goals']]\n",
    "df3['Internship Goals'] = df3['Internship Goals'].str.replace('\\n', '.', regex=True)\n",
    "df3['Internship Goals'] = df3['Internship Goals'].str.replace(r'\\d+', '.', regex=True)\n",
    "\n",
    "goals = df3['Internship Goals']\n",
    "all_text = \" \".join(goals)\n",
    "all_text\n",
    "# airtel@skye8\n",
    "\n"
   ]
  },
  {
   "cell_type": "code",
   "execution_count": null,
   "metadata": {},
   "outputs": [
    {
     "data": {
      "text/plain": [
       "'Fulfill academic requirements .Improve skills .Gain more experience .Experience industry trends .Build meaningful projects '"
      ]
     },
     "execution_count": 39,
     "metadata": {},
     "output_type": "execute_result"
    }
   ],
   "source": [
    "\n"
   ]
  }
 ],
 "metadata": {
  "kernelspec": {
   "display_name": "Python 3",
   "language": "python",
   "name": "python3"
  },
  "language_info": {
   "codemirror_mode": {
    "name": "ipython",
    "version": 3
   },
   "file_extension": ".py",
   "mimetype": "text/x-python",
   "name": "python",
   "nbconvert_exporter": "python",
   "pygments_lexer": "ipython3",
   "version": "3.8.0"
  }
 },
 "nbformat": 4,
 "nbformat_minor": 2
}
